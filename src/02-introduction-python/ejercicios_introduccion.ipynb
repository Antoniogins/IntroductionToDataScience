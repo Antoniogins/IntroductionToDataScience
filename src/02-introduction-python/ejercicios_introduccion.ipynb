{
 "cells": [
  {
   "cell_type": "code",
   "execution_count": 4,
   "metadata": {},
   "outputs": [],
   "source": [
    "# Definimos n para usarlo en el resto de bloques\n",
    "n = int(input(\"Introduce un numero\"))"
   ]
  },
  {
   "cell_type": "markdown",
   "metadata": {},
   "source": []
  },
  {
   "cell_type": "code",
   "execution_count": 5,
   "metadata": {},
   "outputs": [
    {
     "name": "stdout",
     "output_type": "stream",
     "text": [
      "La suma es 3.1415925517787917\n"
     ]
    }
   ],
   "source": [
    "n = n or int(input(\"Introduce un numero\"))\n",
    "suma = 0\n",
    "for i in range(n + 1):\n",
    "    suma += 4 * (-1) ** i / (2 * i + 1)\n",
    "\n",
    "print(f\"La suma es {suma}\")"
   ]
  },
  {
   "cell_type": "markdown",
   "metadata": {},
   "source": []
  },
  {
   "cell_type": "code",
   "execution_count": 6,
   "metadata": {},
   "outputs": [
    {
     "name": "stdout",
     "output_type": "stream",
     "text": [
      "9822123 x 1 = 9822123\n",
      "9822123 x 2 = 19644246\n",
      "9822123 x 3 = 29466369\n",
      "9822123 x 4 = 39288492\n",
      "9822123 x 5 = 49110615\n",
      "9822123 x 6 = 58932738\n",
      "9822123 x 7 = 68754861\n",
      "9822123 x 8 = 78576984\n",
      "9822123 x 9 = 88399107\n",
      "9822123 x 10 = 98221230\n"
     ]
    }
   ],
   "source": [
    "n = n or int(input(\"Introduce un numero\"))\n",
    "for i in range(1, 11):\n",
    "    print(f\"{n} x {i} = {n * i}\")"
   ]
  },
  {
   "cell_type": "markdown",
   "metadata": {},
   "source": []
  },
  {
   "cell_type": "code",
   "execution_count": 22,
   "metadata": {},
   "outputs": [
    {
     "name": "stdout",
     "output_type": "stream",
     "text": [
      "1 \n",
      "\n",
      "1 2 \n",
      "\n",
      "1 2 3 \n",
      "\n",
      "1 2 3 4 \n",
      "\n",
      "1 2 3 4 5 \n",
      "\n",
      "1 2 3 4 5 6 \n",
      "\n",
      "1 2 3 4 5 6 7 \n",
      "\n",
      "1 2 3 4 5 6 7 8 \n",
      "\n"
     ]
    }
   ],
   "source": [
    "n = int(input(\"Introduce un numero\"))\n",
    "for i in range(1, n + 1):\n",
    "    for j in range(1, i + 1):\n",
    "        print(j, end=\" \")\n",
    "    print(\"\\n\")"
   ]
  },
  {
   "cell_type": "code",
   "execution_count": 24,
   "metadata": {},
   "outputs": [
    {
     "name": "stdout",
     "output_type": "stream",
     "text": [
      "1\n",
      "1 🙈 2\n",
      "1 🙈 2 🙈 3\n",
      "1 🙈 2 🙈 3 🙈 4\n",
      "1 🙈 2 🙈 3 🙈 4 🙈 5\n",
      "1 🙈 2 🙈 3 🙈 4 🙈 5 🙈 6\n",
      "1 🙈 2 🙈 3 🙈 4 🙈 5 🙈 6 🙈 7\n",
      "1 🙈 2 🙈 3 🙈 4 🙈 5 🙈 6 🙈 7 🙈 8\n",
      "1\n",
      "1 ✨ 2\n",
      "1 ✨ 2 ✨ 3\n",
      "1 ✨ 2 ✨ 3 ✨ 4\n",
      "1 ✨ 2 ✨ 3 ✨ 4 ✨ 5\n",
      "1 ✨ 2 ✨ 3 ✨ 4 ✨ 5 ✨ 6\n",
      "1 ✨ 2 ✨ 3 ✨ 4 ✨ 5 ✨ 6 ✨ 7\n",
      "1 ✨ 2 ✨ 3 ✨ 4 ✨ 5 ✨ 6 ✨ 7 ✨ 8\n",
      "1\n",
      "1 🐴 2\n",
      "1 🐴 2 🐴 3\n",
      "1 🐴 2 🐴 3 🐴 4\n",
      "1 🐴 2 🐴 3 🐴 4 🐴 5\n",
      "1 🐴 2 🐴 3 🐴 4 🐴 5 🐴 6\n",
      "1 🐴 2 🐴 3 🐴 4 🐴 5 🐴 6 🐴 7\n",
      "1 🐴 2 🐴 3 🐴 4 🐴 5 🐴 6 🐴 7 🐴 8\n",
      "1\n",
      "1 😵‍💫 2\n",
      "1 😵‍💫 2 😵‍💫 3\n",
      "1 😵‍💫 2 😵‍💫 3 😵‍💫 4\n",
      "1 😵‍💫 2 😵‍💫 3 😵‍💫 4 😵‍💫 5\n",
      "1 😵‍💫 2 😵‍💫 3 😵‍💫 4 😵‍💫 5 😵‍💫 6\n",
      "1 😵‍💫 2 😵‍💫 3 😵‍💫 4 😵‍💫 5 😵‍💫 6 😵‍💫 7\n",
      "1 😵‍💫 2 😵‍💫 3 😵‍💫 4 😵‍💫 5 😵‍💫 6 😵‍💫 7 😵‍💫 8\n",
      "1\n",
      "1 🌈 2\n",
      "1 🌈 2 🌈 3\n",
      "1 🌈 2 🌈 3 🌈 4\n",
      "1 🌈 2 🌈 3 🌈 4 🌈 5\n",
      "1 🌈 2 🌈 3 🌈 4 🌈 5 🌈 6\n",
      "1 🌈 2 🌈 3 🌈 4 🌈 5 🌈 6 🌈 7\n",
      "1 🌈 2 🌈 3 🌈 4 🌈 5 🌈 6 🌈 7 🌈 8\n",
      "1\n",
      "1 ⛈️ 2\n",
      "1 ⛈️ 2 ⛈️ 3\n",
      "1 ⛈️ 2 ⛈️ 3 ⛈️ 4\n",
      "1 ⛈️ 2 ⛈️ 3 ⛈️ 4 ⛈️ 5\n",
      "1 ⛈️ 2 ⛈️ 3 ⛈️ 4 ⛈️ 5 ⛈️ 6\n",
      "1 ⛈️ 2 ⛈️ 3 ⛈️ 4 ⛈️ 5 ⛈️ 6 ⛈️ 7\n",
      "1 ⛈️ 2 ⛈️ 3 ⛈️ 4 ⛈️ 5 ⛈️ 6 ⛈️ 7 ⛈️ 8\n",
      "1\n",
      "1 💦 2\n",
      "1 💦 2 💦 3\n",
      "1 💦 2 💦 3 💦 4\n",
      "1 💦 2 💦 3 💦 4 💦 5\n",
      "1 💦 2 💦 3 💦 4 💦 5 💦 6\n",
      "1 💦 2 💦 3 💦 4 💦 5 💦 6 💦 7\n",
      "1 💦 2 💦 3 💦 4 💦 5 💦 6 💦 7 💦 8\n",
      "1\n",
      "1 🍑 2\n",
      "1 🍑 2 🍑 3\n",
      "1 🍑 2 🍑 3 🍑 4\n",
      "1 🍑 2 🍑 3 🍑 4 🍑 5\n",
      "1 🍑 2 🍑 3 🍑 4 🍑 5 🍑 6\n",
      "1 🍑 2 🍑 3 🍑 4 🍑 5 🍑 6 🍑 7\n",
      "1 🍑 2 🍑 3 🍑 4 🍑 5 🍑 6 🍑 7 🍑 8\n",
      "1\n",
      "1 🍒 2\n",
      "1 🍒 2 🍒 3\n",
      "1 🍒 2 🍒 3 🍒 4\n",
      "1 🍒 2 🍒 3 🍒 4 🍒 5\n",
      "1 🍒 2 🍒 3 🍒 4 🍒 5 🍒 6\n",
      "1 🍒 2 🍒 3 🍒 4 🍒 5 🍒 6 🍒 7\n",
      "1 🍒 2 🍒 3 🍒 4 🍒 5 🍒 6 🍒 7 🍒 8\n",
      "1\n",
      "1 🍌 2\n",
      "1 🍌 2 🍌 3\n",
      "1 🍌 2 🍌 3 🍌 4\n",
      "1 🍌 2 🍌 3 🍌 4 🍌 5\n",
      "1 🍌 2 🍌 3 🍌 4 🍌 5 🍌 6\n",
      "1 🍌 2 🍌 3 🍌 4 🍌 5 🍌 6 🍌 7\n",
      "1 🍌 2 🍌 3 🍌 4 🍌 5 🍌 6 🍌 7 🍌 8\n",
      "1\n",
      "1 🍙 2\n",
      "1 🍙 2 🍙 3\n",
      "1 🍙 2 🍙 3 🍙 4\n",
      "1 🍙 2 🍙 3 🍙 4 🍙 5\n",
      "1 🍙 2 🍙 3 🍙 4 🍙 5 🍙 6\n",
      "1 🍙 2 🍙 3 🍙 4 🍙 5 🍙 6 🍙 7\n",
      "1 🍙 2 🍙 3 🍙 4 🍙 5 🍙 6 🍙 7 🍙 8\n"
     ]
    }
   ],
   "source": [
    "n = n or int(input(\"Introduce un numero\"))\n",
    "nice_emojis = [\"🙈\", \"✨\", \"🐴\", \"😵‍💫\", \"🌈\", \"⛈️\", \"💦\", \"🍑\", \"🍒\", \"🍌\", \"🍙\"]\n",
    "for emoji in nice_emojis:\n",
    "    for i in range(1, n+1):\n",
    "        print((\" \" + emoji + \" \").join([str(f) for f in range(1, i+1)]))"
   ]
  },
  {
   "cell_type": "markdown",
   "metadata": {},
   "source": []
  },
  {
   "cell_type": "code",
   "execution_count": null,
   "metadata": {},
   "outputs": [],
   "source": [
    "n = int(input(\"Introduce un numero\"))\n",
    "could_divide = False\n",
    "for i in range(2, n):  # remember range(a, b) creates a list from a to b-1\n",
    "    if n % i == 0:\n",
    "        could_divide = True\n",
    "        break\n",
    "\n",
    "if could_divide:\n",
    "    print(\"Number is not prime\")\n",
    "else:\n",
    "    print(\"Number is prime\")"
   ]
  },
  {
   "cell_type": "markdown",
   "metadata": {},
   "source": []
  },
  {
   "cell_type": "code",
   "execution_count": null,
   "metadata": {},
   "outputs": [],
   "source": [
    "def is_prime(n):\n",
    "    for i in range(2, n):\n",
    "        if n % i == 0:\n",
    "            return False\n",
    "    return True\n",
    "\n",
    "n = int(input(\"Introduce un numero\"))\n",
    "for i in range(1, n + 1):\n",
    "    if is_prime(i):\n",
    "        print(f\"Prime number found: {i}\")"
   ]
  },
  {
   "cell_type": "markdown",
   "metadata": {},
   "source": []
  },
  {
   "cell_type": "code",
   "execution_count": 18,
   "metadata": {},
   "outputs": [
    {
     "name": "stdout",
     "output_type": "stream",
     "text": [
      "Esperanza de vida de cada persona:\n",
      "{'Pedro': 81.4, 'María': 86.6, 'Marta': 86.5}\n",
      "Esperanza de vida de cada persona, de forma bonita:\n",
      "{\n",
      "    \"Pedro\": 81.4,\n",
      "    \"María\": 86.6,\n",
      "    \"Marta\": 86.5\n",
      "}\n"
     ]
    }
   ],
   "source": [
    "personas = {\"Pedro\": 28, \"María\": 21, \"Marta\": 22}\n",
    "esperanza_adicional = {28: 53.4, 21: 65.6, 22: 64.5}\n",
    "\n",
    "esperanza_personas = {\n",
    "    nombre: edad + esperanza_adicional[edad] for nombre, edad in personas.items()\n",
    "}\n",
    "\n",
    "print(f\"Esperanza de vida de cada persona:\\n{esperanza_personas}\")\n",
    "\n",
    "# Print nicely\n",
    "import json\n",
    "print(f\"Esperanza de vida de cada persona, de forma bonita:\\n{json.dumps(esperanza_personas, indent=4, ensure_ascii=False)}\")\n"
   ]
  }
 ],
 "metadata": {
  "kernelspec": {
   "display_name": "ids",
   "language": "python",
   "name": "python3"
  },
  "language_info": {
   "codemirror_mode": {
    "name": "ipython",
    "version": 3
   },
   "file_extension": ".py",
   "mimetype": "text/x-python",
   "name": "python",
   "nbconvert_exporter": "python",
   "pygments_lexer": "ipython3",
   "version": "3.12.1"
  }
 },
 "nbformat": 4,
 "nbformat_minor": 2
}
