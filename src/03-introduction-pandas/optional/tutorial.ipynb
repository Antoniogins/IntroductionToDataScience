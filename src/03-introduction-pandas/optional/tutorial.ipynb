{
 "cells": [
  {
   "cell_type": "code",
   "execution_count": 2,
   "metadata": {},
   "outputs": [],
   "source": [
    "import pandas as pd\n",
    "import numpy as np\n",
    "from pathlib import Path\n",
    "\n",
    "DATA_DIR = Path(\".\") / \"..\" / \"..\" / \"data\""
   ]
  },
  {
   "cell_type": "code",
   "execution_count": 29,
   "metadata": {},
   "outputs": [
    {
     "name": "stdout",
     "output_type": "stream",
     "text": [
      "*-* df1 *-*\n",
      "   a  b  c\n",
      "i  0  1  2\n",
      "j  3  4  5\n",
      "k  6  7  8\n",
      "*-* df2 *-*\n",
      "    a   b   c\n",
      "l  20  21  22\n",
      "m  23  24  25\n",
      "*-* pd.concat([df1, df2]) *-*\n",
      "    a   b   c\n",
      "i   0   1   2\n",
      "j   3   4   5\n",
      "k   6   7   8\n",
      "l  20  21  22\n",
      "m  23  24  25\n",
      "*-* df4 *-*\n",
      "    d   e\n",
      "i  20  21\n",
      "j  22  23\n",
      "k  24  25\n",
      "*-* pd.concat([df1, df4], axis=1) *-*\n",
      "   a  b  c   d   e\n",
      "i  0  1  2  20  21\n",
      "j  3  4  5  22  23\n",
      "k  6  7  8  24  25\n"
     ]
    }
   ],
   "source": [
    "df1 = pd.DataFrame(\n",
    "    np.arange(9).reshape(3, 3),\n",
    "    index=list(\"ijk\"),\n",
    "    columns=list(\"abc\")\n",
    ")\n",
    "df2 = pd.DataFrame(\n",
    "    np.arange(20, 26).reshape(2, 3),\n",
    "    index=list(\"lm\"),\n",
    "    columns=list(\"abc\")\n",
    ")\n",
    "print(f\"*-* df1 *-*\\n{df1}\")\n",
    "print(f\"*-* df2 *-*\\n{df2}\")\n",
    "print(f\"*-* pd.concat([df1, df2]) *-*\\n{pd.concat([df1, df2])}\")\n",
    "\n",
    "df4 = pd.DataFrame(\n",
    "    np.arange(20, 26).reshape(3, 2),\n",
    "    index=list(\"ijk\"),\n",
    "    columns=list(\"de\")\n",
    ")\n",
    "print(f\"*-* df4 *-*\\n{df4}\")\n",
    "print(f\"*-* pd.concat([df1, df4], axis=1) *-*\\n{pd.concat([df1, df4], axis=1)}\")"
   ]
  },
  {
   "cell_type": "code",
   "execution_count": 28,
   "metadata": {},
   "outputs": [
    {
     "name": "stdout",
     "output_type": "stream",
     "text": [
      "*-* df6 *-*\n",
      "    d   e\n",
      "k  24  25\n",
      "j  22  23\n",
      "i  20  21\n",
      "*-* pd.concat([df1, df6], axis=1) *-*\n",
      "   a  b  c   d   e\n",
      "i  0  1  2  20  21\n",
      "j  3  4  5  22  23\n",
      "k  6  7  8  24  25\n"
     ]
    }
   ],
   "source": [
    "df6 = df4.loc[::-1, :]\n",
    "print(f\"*-* df6 *-*\\n{df6}\")\n",
    "print(\n",
    "    f\"*-* pd.concat([df1, df6], axis=1) *-*\\n{pd.concat([df1, df6], axis=1)}\"\n",
    ")  # Automatically aligns the indices"
   ]
  },
  {
   "cell_type": "code",
   "execution_count": 30,
   "metadata": {},
   "outputs": [
    {
     "name": "stdout",
     "output_type": "stream",
     "text": [
      "*-* df1 *-*\n",
      "   a  b  c\n",
      "i  0  1  2\n",
      "j  3  4  5\n",
      "k  6  7  8\n",
      "*-* df8 *-*\n",
      "   a  b  d\n",
      "l  0  1  2\n",
      "m  3  4  5\n",
      "*-* pd.concat([df1, df8]) *-*\n",
      "   a  b    c    d\n",
      "i  0  1  2.0  NaN\n",
      "j  3  4  5.0  NaN\n",
      "k  6  7  8.0  NaN\n",
      "l  0  1  NaN  2.0\n",
      "m  3  4  NaN  5.0\n",
      "*-* pd.concat([df1, df8], join='inner') *-*\n",
      "   a  b\n",
      "i  0  1\n",
      "j  3  4\n",
      "k  6  7\n",
      "l  0  1\n",
      "m  3  4\n"
     ]
    }
   ],
   "source": [
    "print(f\"*-* df1 *-*\\n{df1}\")\n",
    "df8 = pd.DataFrame(\n",
    "    np.arange(6).reshape(2, 3),\n",
    "    index=list(\"lm\"),\n",
    "    columns=list(\"abd\")\n",
    ")\n",
    "print(f\"*-* df8 *-*\\n{df8}\")\n",
    "print(f\"*-* pd.concat([df1, df8]) *-*\\n{pd.concat([df1, df8])}\")\n",
    "print(f\"*-* pd.concat([df1, df8], join='inner') *-*\\n{pd.concat([df1, df8], join='inner')}\")"
   ]
  },
  {
   "cell_type": "code",
   "execution_count": 32,
   "metadata": {},
   "outputs": [
    {
     "name": "stdout",
     "output_type": "stream",
     "text": [
      "*-* df1 *-*\n",
      "   a  b  c\n",
      "i  0  1  2\n",
      "j  3  4  5\n",
      "k  6  7  8\n",
      "*-* df10 *-*\n",
      "    d   e\n",
      "i  60  61\n",
      "j  62  63\n",
      "l  64  65\n",
      "*-* pd.concat([df1, df10], axis=1) *-*\n",
      "     a    b    c     d     e\n",
      "i  0.0  1.0  2.0  60.0  61.0\n",
      "j  3.0  4.0  5.0  62.0  63.0\n",
      "k  6.0  7.0  8.0   NaN   NaN\n",
      "l  NaN  NaN  NaN  64.0  65.0\n",
      "*-* pd.concat([df1, df10], axis=1, join='inner') *-*\n",
      "   a  b  c   d   e\n",
      "i  0  1  2  60  61\n",
      "j  3  4  5  62  63\n"
     ]
    }
   ],
   "source": [
    "print(f\"*-* df1 *-*\\n{df1}\")\n",
    "df10 = pd.DataFrame(\n",
    "    np.arange(60, 66).reshape(3, 2), \n",
    "    index=list(\"ijl\"),\n",
    "    columns=list(\"de\")\n",
    ")\n",
    "print(f\"*-* df10 *-*\\n{df10}\")\n",
    "print(f\"*-* pd.concat([df1, df10], axis=1) *-*\\n{pd.concat([df1, df10], axis=1)}\")\n",
    "print(f\"*-* pd.concat([df1, df10], axis=1, join='inner') *-*\\n{pd.concat([df1, df10], axis=1, join='inner')}\")"
   ]
  }
 ],
 "metadata": {
  "kernelspec": {
   "display_name": "ids",
   "language": "python",
   "name": "python3"
  },
  "language_info": {
   "codemirror_mode": {
    "name": "ipython",
    "version": 3
   },
   "file_extension": ".py",
   "mimetype": "text/x-python",
   "name": "python",
   "nbconvert_exporter": "python",
   "pygments_lexer": "ipython3",
   "version": "3.12.1"
  }
 },
 "nbformat": 4,
 "nbformat_minor": 2
}
