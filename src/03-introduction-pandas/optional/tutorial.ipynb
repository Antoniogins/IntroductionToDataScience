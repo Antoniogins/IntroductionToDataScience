{
 "cells": [
  {
   "cell_type": "code",
   "execution_count": 2,
   "metadata": {},
   "outputs": [],
   "source": [
    "import pandas as pd\n",
    "import numpy as np\n",
    "from pathlib import Path\n",
    "\n",
    "DATA_DIR = Path(\".\") / \"..\" / \"..\" / \"data\""
   ]
  },
  {
   "cell_type": "code",
   "execution_count": 29,
   "metadata": {},
   "outputs": [
    {
     "name": "stdout",
     "output_type": "stream",
     "text": [
      "*-* df1 *-*\n",
      "   a  b  c\n",
      "i  0  1  2\n",
      "j  3  4  5\n",
      "k  6  7  8\n",
      "*-* df2 *-*\n",
      "    a   b   c\n",
      "l  20  21  22\n",
      "m  23  24  25\n",
      "*-* pd.concat([df1, df2]) *-*\n",
      "    a   b   c\n",
      "i   0   1   2\n",
      "j   3   4   5\n",
      "k   6   7   8\n",
      "l  20  21  22\n",
      "m  23  24  25\n",
      "*-* df4 *-*\n",
      "    d   e\n",
      "i  20  21\n",
      "j  22  23\n",
      "k  24  25\n",
      "*-* pd.concat([df1, df4], axis=1) *-*\n",
      "   a  b  c   d   e\n",
      "i  0  1  2  20  21\n",
      "j  3  4  5  22  23\n",
      "k  6  7  8  24  25\n"
     ]
    }
   ],
   "source": [
    "df1 = pd.DataFrame(\n",
    "    np.arange(9).reshape(3, 3),\n",
    "    index=list(\"ijk\"),\n",
    "    columns=list(\"abc\")\n",
    ")\n",
    "df2 = pd.DataFrame(\n",
    "    np.arange(20, 26).reshape(2, 3),\n",
    "    index=list(\"lm\"),\n",
    "    columns=list(\"abc\")\n",
    ")\n",
    "print(f\"*-* df1 *-*\\n{df1}\")\n",
    "print(f\"*-* df2 *-*\\n{df2}\")\n",
    "print(f\"*-* pd.concat([df1, df2]) *-*\\n{pd.concat([df1, df2])}\")\n",
    "\n",
    "df4 = pd.DataFrame(\n",
    "    np.arange(20, 26).reshape(3, 2),\n",
    "    index=list(\"ijk\"),\n",
    "    columns=list(\"de\")\n",
    ")\n",
    "print(f\"*-* df4 *-*\\n{df4}\")\n",
    "print(f\"*-* pd.concat([df1, df4], axis=1) *-*\\n{pd.concat([df1, df4], axis=1)}\")"
   ]
  },
  {
   "cell_type": "code",
   "execution_count": 28,
   "metadata": {},
   "outputs": [
    {
     "name": "stdout",
     "output_type": "stream",
     "text": [
      "*-* df6 *-*\n",
      "    d   e\n",
      "k  24  25\n",
      "j  22  23\n",
      "i  20  21\n",
      "*-* pd.concat([df1, df6], axis=1) *-*\n",
      "   a  b  c   d   e\n",
      "i  0  1  2  20  21\n",
      "j  3  4  5  22  23\n",
      "k  6  7  8  24  25\n"
     ]
    }
   ],
   "source": [
    "df6 = df4.loc[::-1, :]\n",
    "print(f\"*-* df6 *-*\\n{df6}\")\n",
    "print(\n",
    "    f\"*-* pd.concat([df1, df6], axis=1) *-*\\n{pd.concat([df1, df6], axis=1)}\"\n",
    ")  # Automatically aligns the indices"
   ]
  },
  {
   "cell_type": "code",
   "execution_count": 30,
   "metadata": {},
   "outputs": [
    {
     "name": "stdout",
     "output_type": "stream",
     "text": [
      "*-* df1 *-*\n",
      "   a  b  c\n",
      "i  0  1  2\n",
      "j  3  4  5\n",
      "k  6  7  8\n",
      "*-* df8 *-*\n",
      "   a  b  d\n",
      "l  0  1  2\n",
      "m  3  4  5\n",
      "*-* pd.concat([df1, df8]) *-*\n",
      "   a  b    c    d\n",
      "i  0  1  2.0  NaN\n",
      "j  3  4  5.0  NaN\n",
      "k  6  7  8.0  NaN\n",
      "l  0  1  NaN  2.0\n",
      "m  3  4  NaN  5.0\n",
      "*-* pd.concat([df1, df8], join='inner') *-*\n",
      "   a  b\n",
      "i  0  1\n",
      "j  3  4\n",
      "k  6  7\n",
      "l  0  1\n",
      "m  3  4\n"
     ]
    }
   ],
   "source": [
    "print(f\"*-* df1 *-*\\n{df1}\")\n",
    "df8 = pd.DataFrame(\n",
    "    np.arange(6).reshape(2, 3),\n",
    "    index=list(\"lm\"),\n",
    "    columns=list(\"abd\")\n",
    ")\n",
    "print(f\"*-* df8 *-*\\n{df8}\")\n",
    "print(f\"*-* pd.concat([df1, df8]) *-*\\n{pd.concat([df1, df8])}\")\n",
    "print(f\"*-* pd.concat([df1, df8], join='inner') *-*\\n{pd.concat([df1, df8], join='inner')}\")"
   ]
  },
  {
   "cell_type": "code",
   "execution_count": 32,
   "metadata": {},
   "outputs": [
    {
     "name": "stdout",
     "output_type": "stream",
     "text": [
      "*-* df1 *-*\n",
      "   a  b  c\n",
      "i  0  1  2\n",
      "j  3  4  5\n",
      "k  6  7  8\n",
      "*-* df10 *-*\n",
      "    d   e\n",
      "i  60  61\n",
      "j  62  63\n",
      "l  64  65\n",
      "*-* pd.concat([df1, df10], axis=1) *-*\n",
      "     a    b    c     d     e\n",
      "i  0.0  1.0  2.0  60.0  61.0\n",
      "j  3.0  4.0  5.0  62.0  63.0\n",
      "k  6.0  7.0  8.0   NaN   NaN\n",
      "l  NaN  NaN  NaN  64.0  65.0\n",
      "*-* pd.concat([df1, df10], axis=1, join='inner') *-*\n",
      "   a  b  c   d   e\n",
      "i  0  1  2  60  61\n",
      "j  3  4  5  62  63\n"
     ]
    }
   ],
   "source": [
    "print(f\"*-* df1 *-*\\n{df1}\")\n",
    "df10 = pd.DataFrame(\n",
    "    np.arange(60, 66).reshape(3, 2), \n",
    "    index=list(\"ijl\"),\n",
    "    columns=list(\"de\")\n",
    ")\n",
    "print(f\"*-* df10 *-*\\n{df10}\")\n",
    "print(f\"*-* pd.concat([df1, df10], axis=1) *-*\\n{pd.concat([df1, df10], axis=1)}\")\n",
    "print(f\"*-* pd.concat([df1, df10], axis=1, join='inner') *-*\\n{pd.concat([df1, df10], axis=1, join='inner')}\")"
   ]
  },
  {
   "cell_type": "markdown",
   "metadata": {},
   "source": [
    "# Merge"
   ]
  },
  {
   "cell_type": "code",
   "execution_count": 33,
   "metadata": {},
   "outputs": [
    {
     "name": "stdout",
     "output_type": "stream",
     "text": [
      "*-* clientes *-*\n",
      "        dni  nombre apellido1 apellido2\n",
      "0  12345678    José     Pérez  Martínez\n",
      "1  23456789   Pedro  Martínez    Moreno\n",
      "2  34567890   María   Sánchez  Meseguer\n",
      "3  01234567  Blanca      Ruiz    Torres\n",
      "*-* pedidos *-*\n",
      "   id       dni id_producto\n",
      "0  10  23456789      AAA123\n",
      "1  12  23456789      SOX433\n",
      "2  21  12345678      QWE000\n",
      "3  22  12345678      SOX433\n",
      "4  24  12345678      PII342\n",
      "5  25  34567890      ZXY099\n",
      "6  28  87654321      PII342\n",
      "*-* productos *-*\n",
      "       id       nombre\n",
      "0  AAA123         Pila\n",
      "1  SOX433     Bombilla\n",
      "2  QWE000  Interruptor\n",
      "3  PII342      Enchufe\n",
      "4  ZXY099         Toma\n"
     ]
    }
   ],
   "source": [
    "clientes = pd.DataFrame(\n",
    "    {\n",
    "        \"dni\": [\"12345678\", \"23456789\", \"34567890\", \"01234567\"],\n",
    "        \"nombre\": [\"José\", \"Pedro\", \"María\", \"Blanca\"],\n",
    "        \"apellido1\": [\"Pérez\", \"Martínez\", \"Sánchez\", \"Ruiz\"],\n",
    "        \"apellido2\": [\"Martínez\", \"Moreno\", \"Meseguer\", \"Torres\"],\n",
    "    }\n",
    ")\n",
    "pedidos = pd.DataFrame(\n",
    "    {\n",
    "        \"id\": [10, 12, 21, 22, 24, 25, 28],\n",
    "        \"dni\": np.repeat(\n",
    "            [\"23456789\", \"12345678\", \"34567890\", \"87654321\"], repeats=[2, 3, 1, 1]\n",
    "        ),\n",
    "        \"id_producto\": [\n",
    "            \"AAA123\",\n",
    "            \"SOX433\",\n",
    "            \"QWE000\",\n",
    "            \"SOX433\",\n",
    "            \"PII342\",\n",
    "            \"ZXY099\",\n",
    "            \"PII342\",\n",
    "        ],\n",
    "    }\n",
    ")\n",
    "\n",
    "productos = pd.DataFrame(\n",
    "    {\n",
    "        \"id\": [\"AAA123\", \"SOX433\", \"QWE000\", \"PII342\", \"ZXY099\"],\n",
    "        \"nombre\": [\"Pila\", \"Bombilla\", \"Interruptor\", \"Enchufe\", \"Toma\"],\n",
    "    }\n",
    ")\n",
    "\n",
    "print(f\"*-* clientes *-*\\n{clientes}\")\n",
    "print(f\"*-* pedidos *-*\\n{pedidos}\")\n",
    "print(f\"*-* productos *-*\\n{productos}\")"
   ]
  },
  {
   "cell_type": "code",
   "execution_count": 38,
   "metadata": {},
   "outputs": [
    {
     "name": "stdout",
     "output_type": "stream",
     "text": [
      "*-* pd.merge(clientes, pedidos) *-*\n",
      "        dni nombre apellido1 apellido2  id id_producto\n",
      "0  12345678   José     Pérez  Martínez  21      QWE000\n",
      "1  12345678   José     Pérez  Martínez  22      SOX433\n",
      "2  12345678   José     Pérez  Martínez  24      PII342\n",
      "3  23456789  Pedro  Martínez    Moreno  10      AAA123\n",
      "4  23456789  Pedro  Martínez    Moreno  12      SOX433\n",
      "5  34567890  María   Sánchez  Meseguer  25      ZXY099\n"
     ]
    }
   ],
   "source": [
    "print(f\"*-* pd.merge(clientes, pedidos) *-*\\n{pd.merge(clientes, pedidos)}\")\n",
    "# Busca entre clientes y pedidos las columnas comunes e intenta realizar el merge con esa columna\n",
    "# Hay algunos valores de clientes, que no esta en pedidos, y no se tiene en cuenta al realizar el\n",
    "# merge (default how='inner', que significa que se toman los valores que estan en ambos DataFrames)"
   ]
  },
  {
   "cell_type": "code",
   "execution_count": 39,
   "metadata": {},
   "outputs": [
    {
     "name": "stdout",
     "output_type": "stream",
     "text": [
      "*-* pd.merge(clientes, pedidos, how='left') *-*\n",
      "        dni  nombre apellido1 apellido2    id id_producto\n",
      "0  12345678    José     Pérez  Martínez  21.0      QWE000\n",
      "1  12345678    José     Pérez  Martínez  22.0      SOX433\n",
      "2  12345678    José     Pérez  Martínez  24.0      PII342\n",
      "3  23456789   Pedro  Martínez    Moreno  10.0      AAA123\n",
      "4  23456789   Pedro  Martínez    Moreno  12.0      SOX433\n",
      "5  34567890   María   Sánchez  Meseguer  25.0      ZXY099\n",
      "6  01234567  Blanca      Ruiz    Torres   NaN         NaN\n"
     ]
    }
   ],
   "source": [
    "# El comportamiento anterior se puede cambiar con el parametro how\n",
    "print(f\"*-* pd.merge(clientes, pedidos, how='left') *-*\\n{pd.merge(clientes, pedidos, how='left')}\")\n",
    "# Con how='left' se toman todos los valores del primer DataFrame (clientes) y se intenta hacer el merge con el\n",
    "# segundo DataFrame (pedidos), aunque no haya valores en el segundo DataFrame"
   ]
  },
  {
   "cell_type": "code",
   "execution_count": 40,
   "metadata": {},
   "outputs": [
    {
     "name": "stdout",
     "output_type": "stream",
     "text": [
      "*-* pd.merge(clientes, pedidos, how='right') *-*\n",
      "        dni nombre apellido1 apellido2  id id_producto\n",
      "0  23456789  Pedro  Martínez    Moreno  10      AAA123\n",
      "1  23456789  Pedro  Martínez    Moreno  12      SOX433\n",
      "2  12345678   José     Pérez  Martínez  21      QWE000\n",
      "3  12345678   José     Pérez  Martínez  22      SOX433\n",
      "4  12345678   José     Pérez  Martínez  24      PII342\n",
      "5  34567890  María   Sánchez  Meseguer  25      ZXY099\n",
      "6  87654321    NaN       NaN       NaN  28      PII342\n"
     ]
    }
   ],
   "source": [
    "print(f\"*-* pd.merge(clientes, pedidos, how='right') *-*\\n{pd.merge(clientes, pedidos, how='right')}\")\n",
    "# Con how='right' se toman todos los valores del segundo DataFrame (pedidos) y se intenta hacer el merge con el\n",
    "# primer DataFrame (clientes), aunque no haya valores en el primer DataFrame"
   ]
  },
  {
   "cell_type": "code",
   "execution_count": 41,
   "metadata": {},
   "outputs": [
    {
     "name": "stdout",
     "output_type": "stream",
     "text": [
      "*-* pd.merge(clientes, pedidos, how='outer') *-*\n",
      "        dni  nombre apellido1 apellido2    id id_producto\n",
      "0  01234567  Blanca      Ruiz    Torres   NaN         NaN\n",
      "1  12345678    José     Pérez  Martínez  21.0      QWE000\n",
      "2  12345678    José     Pérez  Martínez  22.0      SOX433\n",
      "3  12345678    José     Pérez  Martínez  24.0      PII342\n",
      "4  23456789   Pedro  Martínez    Moreno  10.0      AAA123\n",
      "5  23456789   Pedro  Martínez    Moreno  12.0      SOX433\n",
      "6  34567890   María   Sánchez  Meseguer  25.0      ZXY099\n",
      "7  87654321     NaN       NaN       NaN  28.0      PII342\n"
     ]
    }
   ],
   "source": [
    "print(f\"*-* pd.merge(clientes, pedidos, how='outer') *-*\\n{pd.merge(clientes, pedidos, how='outer')}\")\n",
    "# Con how='outer' se toman todos los valores de ambos DataFrames y se intenta hacer el merge con el otro DataFrame,\n",
    "# aunque no haya valores en el otro DataFrame"
   ]
  },
  {
   "cell_type": "code",
   "execution_count": null,
   "metadata": {},
   "outputs": [],
   "source": [
    "# TODO go to interactive classes an continue on \"especificar las columnas sobre las que se basa el merge\" "
   ]
  }
 ],
 "metadata": {
  "kernelspec": {
   "display_name": "ids",
   "language": "python",
   "name": "python3"
  },
  "language_info": {
   "codemirror_mode": {
    "name": "ipython",
    "version": 3
   },
   "file_extension": ".py",
   "mimetype": "text/x-python",
   "name": "python",
   "nbconvert_exporter": "python",
   "pygments_lexer": "ipython3",
   "version": "3.12.1"
  }
 },
 "nbformat": 4,
 "nbformat_minor": 2
}
